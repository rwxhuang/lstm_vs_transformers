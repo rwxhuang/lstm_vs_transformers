{
  "cells": [
    {
      "cell_type": "markdown",
      "metadata": {
        "id": "view-in-github",
        "colab_type": "text"
      },
      "source": [
        "<a href=\"https://colab.research.google.com/github/rwxhuang/lstm_vs_transformers/blob/main/Architecture_dataset_sizes_test.ipynb\" target=\"_parent\"><img src=\"https://colab.research.google.com/assets/colab-badge.svg\" alt=\"Open In Colab\"/></a>"
      ]
    },
    {
      "cell_type": "markdown",
      "metadata": {
        "id": "qwtX5PVHCGVw"
      },
      "source": [
        "# Necessary Imports"
      ]
    },
    {
      "cell_type": "code",
      "execution_count": null,
      "metadata": {
        "id": "_5dNuciFB5LJ"
      },
      "outputs": [],
      "source": [
        "import pandas as pd\n",
        "import numpy as np\n",
        "import matplotlib.pyplot as plt\n",
        "import seaborn as sns\n",
        "import torch\n",
        "import torch.nn as nn\n",
        "import os\n",
        "from torch.autograd import Variable\n",
        "from sklearn.preprocessing import MinMaxScaler\n",
        "from tensorflow import keras\n",
        "from tensorflow.keras import layers\n",
        "from datetime import datetime\n",
        "from typing import Tuple, Union, Optional, List\n",
        "\n",
        "color_pal = sns.color_palette()\n",
        "plt.style.use('fivethirtyeight')"
      ]
    },
    {
      "cell_type": "code",
      "execution_count": null,
      "metadata": {
        "colab": {
          "base_uri": "https://localhost:8080/",
          "height": 255
        },
        "id": "a-uKyxWCCBEW",
        "outputId": "06e49d87-9708-4461-e8b9-e10f957777e6"
      },
      "outputs": [
        {
          "output_type": "stream",
          "name": "stdout",
          "text": [
            "Mounted at /content/drive\n"
          ]
        },
        {
          "output_type": "execute_result",
          "data": {
            "text/plain": [
              "                     PJME_MW\n",
              "Datetime                    \n",
              "2002-12-31 01:00:00  26498.0\n",
              "2002-12-31 02:00:00  25147.0\n",
              "2002-12-31 03:00:00  24574.0\n",
              "2002-12-31 04:00:00  24393.0\n",
              "2002-12-31 05:00:00  24860.0"
            ],
            "text/html": [
              "\n",
              "  <div id=\"df-f822581e-5b03-4780-8a8f-b3489f291738\" class=\"colab-df-container\">\n",
              "    <div>\n",
              "<style scoped>\n",
              "    .dataframe tbody tr th:only-of-type {\n",
              "        vertical-align: middle;\n",
              "    }\n",
              "\n",
              "    .dataframe tbody tr th {\n",
              "        vertical-align: top;\n",
              "    }\n",
              "\n",
              "    .dataframe thead th {\n",
              "        text-align: right;\n",
              "    }\n",
              "</style>\n",
              "<table border=\"1\" class=\"dataframe\">\n",
              "  <thead>\n",
              "    <tr style=\"text-align: right;\">\n",
              "      <th></th>\n",
              "      <th>PJME_MW</th>\n",
              "    </tr>\n",
              "    <tr>\n",
              "      <th>Datetime</th>\n",
              "      <th></th>\n",
              "    </tr>\n",
              "  </thead>\n",
              "  <tbody>\n",
              "    <tr>\n",
              "      <th>2002-12-31 01:00:00</th>\n",
              "      <td>26498.0</td>\n",
              "    </tr>\n",
              "    <tr>\n",
              "      <th>2002-12-31 02:00:00</th>\n",
              "      <td>25147.0</td>\n",
              "    </tr>\n",
              "    <tr>\n",
              "      <th>2002-12-31 03:00:00</th>\n",
              "      <td>24574.0</td>\n",
              "    </tr>\n",
              "    <tr>\n",
              "      <th>2002-12-31 04:00:00</th>\n",
              "      <td>24393.0</td>\n",
              "    </tr>\n",
              "    <tr>\n",
              "      <th>2002-12-31 05:00:00</th>\n",
              "      <td>24860.0</td>\n",
              "    </tr>\n",
              "  </tbody>\n",
              "</table>\n",
              "</div>\n",
              "    <div class=\"colab-df-buttons\">\n",
              "\n",
              "  <div class=\"colab-df-container\">\n",
              "    <button class=\"colab-df-convert\" onclick=\"convertToInteractive('df-f822581e-5b03-4780-8a8f-b3489f291738')\"\n",
              "            title=\"Convert this dataframe to an interactive table.\"\n",
              "            style=\"display:none;\">\n",
              "\n",
              "  <svg xmlns=\"http://www.w3.org/2000/svg\" height=\"24px\" viewBox=\"0 -960 960 960\">\n",
              "    <path d=\"M120-120v-720h720v720H120Zm60-500h600v-160H180v160Zm220 220h160v-160H400v160Zm0 220h160v-160H400v160ZM180-400h160v-160H180v160Zm440 0h160v-160H620v160ZM180-180h160v-160H180v160Zm440 0h160v-160H620v160Z\"/>\n",
              "  </svg>\n",
              "    </button>\n",
              "\n",
              "  <style>\n",
              "    .colab-df-container {\n",
              "      display:flex;\n",
              "      gap: 12px;\n",
              "    }\n",
              "\n",
              "    .colab-df-convert {\n",
              "      background-color: #E8F0FE;\n",
              "      border: none;\n",
              "      border-radius: 50%;\n",
              "      cursor: pointer;\n",
              "      display: none;\n",
              "      fill: #1967D2;\n",
              "      height: 32px;\n",
              "      padding: 0 0 0 0;\n",
              "      width: 32px;\n",
              "    }\n",
              "\n",
              "    .colab-df-convert:hover {\n",
              "      background-color: #E2EBFA;\n",
              "      box-shadow: 0px 1px 2px rgba(60, 64, 67, 0.3), 0px 1px 3px 1px rgba(60, 64, 67, 0.15);\n",
              "      fill: #174EA6;\n",
              "    }\n",
              "\n",
              "    .colab-df-buttons div {\n",
              "      margin-bottom: 4px;\n",
              "    }\n",
              "\n",
              "    [theme=dark] .colab-df-convert {\n",
              "      background-color: #3B4455;\n",
              "      fill: #D2E3FC;\n",
              "    }\n",
              "\n",
              "    [theme=dark] .colab-df-convert:hover {\n",
              "      background-color: #434B5C;\n",
              "      box-shadow: 0px 1px 3px 1px rgba(0, 0, 0, 0.15);\n",
              "      filter: drop-shadow(0px 1px 2px rgba(0, 0, 0, 0.3));\n",
              "      fill: #FFFFFF;\n",
              "    }\n",
              "  </style>\n",
              "\n",
              "    <script>\n",
              "      const buttonEl =\n",
              "        document.querySelector('#df-f822581e-5b03-4780-8a8f-b3489f291738 button.colab-df-convert');\n",
              "      buttonEl.style.display =\n",
              "        google.colab.kernel.accessAllowed ? 'block' : 'none';\n",
              "\n",
              "      async function convertToInteractive(key) {\n",
              "        const element = document.querySelector('#df-f822581e-5b03-4780-8a8f-b3489f291738');\n",
              "        const dataTable =\n",
              "          await google.colab.kernel.invokeFunction('convertToInteractive',\n",
              "                                                    [key], {});\n",
              "        if (!dataTable) return;\n",
              "\n",
              "        const docLinkHtml = 'Like what you see? Visit the ' +\n",
              "          '<a target=\"_blank\" href=https://colab.research.google.com/notebooks/data_table.ipynb>data table notebook</a>'\n",
              "          + ' to learn more about interactive tables.';\n",
              "        element.innerHTML = '';\n",
              "        dataTable['output_type'] = 'display_data';\n",
              "        await google.colab.output.renderOutput(dataTable, element);\n",
              "        const docLink = document.createElement('div');\n",
              "        docLink.innerHTML = docLinkHtml;\n",
              "        element.appendChild(docLink);\n",
              "      }\n",
              "    </script>\n",
              "  </div>\n",
              "\n",
              "\n",
              "<div id=\"df-fa26271d-de28-46d1-9831-6e9dd7d1e88e\">\n",
              "  <button class=\"colab-df-quickchart\" onclick=\"quickchart('df-fa26271d-de28-46d1-9831-6e9dd7d1e88e')\"\n",
              "            title=\"Suggest charts\"\n",
              "            style=\"display:none;\">\n",
              "\n",
              "<svg xmlns=\"http://www.w3.org/2000/svg\" height=\"24px\"viewBox=\"0 0 24 24\"\n",
              "     width=\"24px\">\n",
              "    <g>\n",
              "        <path d=\"M19 3H5c-1.1 0-2 .9-2 2v14c0 1.1.9 2 2 2h14c1.1 0 2-.9 2-2V5c0-1.1-.9-2-2-2zM9 17H7v-7h2v7zm4 0h-2V7h2v10zm4 0h-2v-4h2v4z\"/>\n",
              "    </g>\n",
              "</svg>\n",
              "  </button>\n",
              "\n",
              "<style>\n",
              "  .colab-df-quickchart {\n",
              "      --bg-color: #E8F0FE;\n",
              "      --fill-color: #1967D2;\n",
              "      --hover-bg-color: #E2EBFA;\n",
              "      --hover-fill-color: #174EA6;\n",
              "      --disabled-fill-color: #AAA;\n",
              "      --disabled-bg-color: #DDD;\n",
              "  }\n",
              "\n",
              "  [theme=dark] .colab-df-quickchart {\n",
              "      --bg-color: #3B4455;\n",
              "      --fill-color: #D2E3FC;\n",
              "      --hover-bg-color: #434B5C;\n",
              "      --hover-fill-color: #FFFFFF;\n",
              "      --disabled-bg-color: #3B4455;\n",
              "      --disabled-fill-color: #666;\n",
              "  }\n",
              "\n",
              "  .colab-df-quickchart {\n",
              "    background-color: var(--bg-color);\n",
              "    border: none;\n",
              "    border-radius: 50%;\n",
              "    cursor: pointer;\n",
              "    display: none;\n",
              "    fill: var(--fill-color);\n",
              "    height: 32px;\n",
              "    padding: 0;\n",
              "    width: 32px;\n",
              "  }\n",
              "\n",
              "  .colab-df-quickchart:hover {\n",
              "    background-color: var(--hover-bg-color);\n",
              "    box-shadow: 0 1px 2px rgba(60, 64, 67, 0.3), 0 1px 3px 1px rgba(60, 64, 67, 0.15);\n",
              "    fill: var(--button-hover-fill-color);\n",
              "  }\n",
              "\n",
              "  .colab-df-quickchart-complete:disabled,\n",
              "  .colab-df-quickchart-complete:disabled:hover {\n",
              "    background-color: var(--disabled-bg-color);\n",
              "    fill: var(--disabled-fill-color);\n",
              "    box-shadow: none;\n",
              "  }\n",
              "\n",
              "  .colab-df-spinner {\n",
              "    border: 2px solid var(--fill-color);\n",
              "    border-color: transparent;\n",
              "    border-bottom-color: var(--fill-color);\n",
              "    animation:\n",
              "      spin 1s steps(1) infinite;\n",
              "  }\n",
              "\n",
              "  @keyframes spin {\n",
              "    0% {\n",
              "      border-color: transparent;\n",
              "      border-bottom-color: var(--fill-color);\n",
              "      border-left-color: var(--fill-color);\n",
              "    }\n",
              "    20% {\n",
              "      border-color: transparent;\n",
              "      border-left-color: var(--fill-color);\n",
              "      border-top-color: var(--fill-color);\n",
              "    }\n",
              "    30% {\n",
              "      border-color: transparent;\n",
              "      border-left-color: var(--fill-color);\n",
              "      border-top-color: var(--fill-color);\n",
              "      border-right-color: var(--fill-color);\n",
              "    }\n",
              "    40% {\n",
              "      border-color: transparent;\n",
              "      border-right-color: var(--fill-color);\n",
              "      border-top-color: var(--fill-color);\n",
              "    }\n",
              "    60% {\n",
              "      border-color: transparent;\n",
              "      border-right-color: var(--fill-color);\n",
              "    }\n",
              "    80% {\n",
              "      border-color: transparent;\n",
              "      border-right-color: var(--fill-color);\n",
              "      border-bottom-color: var(--fill-color);\n",
              "    }\n",
              "    90% {\n",
              "      border-color: transparent;\n",
              "      border-bottom-color: var(--fill-color);\n",
              "    }\n",
              "  }\n",
              "</style>\n",
              "\n",
              "  <script>\n",
              "    async function quickchart(key) {\n",
              "      const quickchartButtonEl =\n",
              "        document.querySelector('#' + key + ' button');\n",
              "      quickchartButtonEl.disabled = true;  // To prevent multiple clicks.\n",
              "      quickchartButtonEl.classList.add('colab-df-spinner');\n",
              "      try {\n",
              "        const charts = await google.colab.kernel.invokeFunction(\n",
              "            'suggestCharts', [key], {});\n",
              "      } catch (error) {\n",
              "        console.error('Error during call to suggestCharts:', error);\n",
              "      }\n",
              "      quickchartButtonEl.classList.remove('colab-df-spinner');\n",
              "      quickchartButtonEl.classList.add('colab-df-quickchart-complete');\n",
              "    }\n",
              "    (() => {\n",
              "      let quickchartButtonEl =\n",
              "        document.querySelector('#df-fa26271d-de28-46d1-9831-6e9dd7d1e88e button');\n",
              "      quickchartButtonEl.style.display =\n",
              "        google.colab.kernel.accessAllowed ? 'block' : 'none';\n",
              "    })();\n",
              "  </script>\n",
              "</div>\n",
              "    </div>\n",
              "  </div>\n"
            ]
          },
          "metadata": {},
          "execution_count": 2
        }
      ],
      "source": [
        "from google.colab import drive\n",
        "\n",
        "drive.mount('/content/drive')\n",
        "DATA_PATH = \"/content/drive/MyDrive/6S898_data/\"\n",
        "df = pd.read_csv(DATA_PATH + \"PJME_hourly.csv\")\n",
        "df = df.set_index('Datetime')\n",
        "df.head()"
      ]
    },
    {
      "cell_type": "code",
      "execution_count": null,
      "metadata": {
        "id": "YN1TFjjMCCvz"
      },
      "outputs": [],
      "source": [
        "df.index = pd.to_datetime(df.index)"
      ]
    },
    {
      "cell_type": "markdown",
      "metadata": {
        "id": "7U0feMwpDWK3"
      },
      "source": [
        "# Prepare Datasets"
      ]
    },
    {
      "cell_type": "code",
      "execution_count": null,
      "metadata": {
        "id": "5Wr0YdlIDX-X"
      },
      "outputs": [],
      "source": [
        "def get_dataset(percent_of_database):\n",
        "  date_cutoff = df.index[int(percent_of_database * len(df))]\n",
        "  train = df.loc[df.index < date_cutoff]\n",
        "  date_cutoff_10_percent = df.index[int(0.9 * len(df))]\n",
        "  test = df.loc[(df.index >= date_cutoff_10_percent)]\n",
        "\n",
        "  def sliding_windows(data, seq_length):\n",
        "    x = []\n",
        "    y = []\n",
        "\n",
        "    for i in range(len(data)-seq_length):\n",
        "        _x = data[i:(i+seq_length)]\n",
        "        _y = data[i+seq_length]\n",
        "        x.append(_x)\n",
        "        y.append(_y)\n",
        "    return np.array(x),np.array(y)\n",
        "\n",
        "  sc_train = MinMaxScaler()\n",
        "  training_data = sc_train.fit_transform(train)\n",
        "\n",
        "  seq_length = 10\n",
        "  x, y = sliding_windows(training_data, seq_length)\n",
        "  X_train, Y_train = torch.Tensor(np.array(x)), torch.Tensor(np.array(y))\n",
        "  # X_train, Y_train = Variable(torch.Tensor(np.array(x))), Variable(torch.Tensor(np.array(y)))\n",
        "\n",
        "  sc_test = MinMaxScaler()\n",
        "  test_data = sc_test.fit_transform(test)\n",
        "  x, y = sliding_windows(test_data, seq_length)\n",
        "  X_test, Y_test = torch.Tensor(np.array(x)), torch.Tensor(np.array(y))\n",
        "  # X_test, Y_test = Variable(torch.Tensor(np.array(x))), Variable(torch.Tensor(np.array(y)))\n",
        "\n",
        "  return X_train, Y_train, X_test, Y_test, sc_train, sc_test"
      ]
    },
    {
      "cell_type": "markdown",
      "metadata": {
        "id": "2X8ej1AkCT0l"
      },
      "source": [
        "# LSTM Model"
      ]
    },
    {
      "cell_type": "markdown",
      "metadata": {
        "id": "USi1zUteCZo_"
      },
      "source": [
        "## Define the LSTM Model"
      ]
    },
    {
      "cell_type": "code",
      "execution_count": null,
      "metadata": {
        "id": "jbr1TaNbCYmt"
      },
      "outputs": [],
      "source": [
        "class LSTM(nn.Module):\n",
        "    def __init__(self, num_classes, input_size, hidden_size, num_layers, seq_length=10):\n",
        "        super(LSTM, self).__init__()\n",
        "\n",
        "        self.num_classes = num_classes\n",
        "        self.num_layers = num_layers\n",
        "        self.input_size = input_size\n",
        "        self.hidden_size = hidden_size\n",
        "        self.seq_length = seq_length\n",
        "\n",
        "        self.lstm = nn.LSTM(input_size=input_size, hidden_size=hidden_size,\n",
        "                            num_layers=num_layers, batch_first=True)\n",
        "\n",
        "        self.fc = nn.Linear(hidden_size, num_classes)\n",
        "\n",
        "    def forward(self, x):\n",
        "        h_0 = torch.zeros(\n",
        "            self.num_layers, x.size(0), self.hidden_size)\n",
        "\n",
        "        c_0 = torch.zeros(\n",
        "            self.num_layers, x.size(0), self.hidden_size)\n",
        "\n",
        "        # Propagate input through LSTM\n",
        "        ula, (h_out, _) = self.lstm(x, (h_0, c_0))\n",
        "\n",
        "        h_out = h_out.view(-1, self.hidden_size)\n",
        "\n",
        "        out = self.fc(h_out)\n",
        "\n",
        "        return out"
      ]
    },
    {
      "cell_type": "code",
      "execution_count": null,
      "metadata": {
        "id": "_s6h-vFVCekv"
      },
      "outputs": [],
      "source": [
        "def train_model(X_train, Y_train, percent, num_epochs=500, learning_rate=0.1):\n",
        "  input_size = 1\n",
        "  hidden_size = 2\n",
        "  num_layers = 1\n",
        "\n",
        "  num_classes = 1\n",
        "\n",
        "  lstm = LSTM(num_classes, input_size, hidden_size, num_layers)\n",
        "\n",
        "  criterion = torch.nn.MSELoss()    # mean-squared error for regression\n",
        "  optimizer = torch.optim.Adam(lstm.parameters(), lr=learning_rate)\n",
        "  # optimizer = torch.optim.SGD(lstm.parameters(), lr=learning_rate)\n",
        "\n",
        "  # Train the model\n",
        "  for epoch in range(num_epochs):\n",
        "      lstm.zero_grad()\n",
        "      outputs = lstm(X_train)\n",
        "\n",
        "      # obtain the loss function\n",
        "      loss = criterion(outputs, Y_train)\n",
        "\n",
        "      loss.backward()\n",
        "\n",
        "      optimizer.step()\n",
        "      if epoch % 100 == 0:\n",
        "        print(\"Epoch: %d, loss: %1.5f\" % (epoch, loss.item()))\n",
        "\n",
        "  now = datetime.now()\n",
        "  torch.save(lstm.state_dict(), os.path.join(DATA_PATH, 'model-weights/lstm_' + str(percent) + '_weights'))"
      ]
    },
    {
      "cell_type": "markdown",
      "metadata": {
        "id": "nv6AJWHjHZIM"
      },
      "source": [
        "## Training"
      ]
    },
    {
      "cell_type": "code",
      "source": [
        "percents = [0.1, 0.2, 0.3, 0.4, 0.5, 0.6, 0.7, 0.8, 0.9]"
      ],
      "metadata": {
        "id": "W_yYLgVaK94Y"
      },
      "execution_count": null,
      "outputs": []
    },
    {
      "cell_type": "code",
      "execution_count": null,
      "metadata": {
        "colab": {
          "base_uri": "https://localhost:8080/"
        },
        "id": "BdBOwmqDHFOt",
        "outputId": "dc25405b-87f2-40a5-cae3-e41510e1086b"
      },
      "outputs": [
        {
          "output_type": "stream",
          "name": "stdout",
          "text": [
            "Epoch: 0, loss: 0.79284\n",
            "Epoch: 100, loss: 0.00347\n",
            "Epoch: 200, loss: 0.00147\n",
            "Epoch: 300, loss: 0.00098\n",
            "Epoch: 400, loss: 0.00095\n",
            "Epoch: 0, loss: 0.55705\n",
            "Epoch: 100, loss: 0.00224\n",
            "Epoch: 200, loss: 0.00147\n",
            "Epoch: 300, loss: 0.00119\n",
            "Epoch: 400, loss: 0.00104\n",
            "Epoch: 0, loss: 0.09277\n",
            "Epoch: 100, loss: 0.00107\n",
            "Epoch: 200, loss: 0.00090\n",
            "Epoch: 300, loss: 0.00071\n",
            "Epoch: 400, loss: 0.00076\n",
            "Epoch: 0, loss: 0.66233\n",
            "Epoch: 100, loss: 0.00837\n",
            "Epoch: 200, loss: 0.00122\n",
            "Epoch: 300, loss: 0.00109\n",
            "Epoch: 400, loss: 0.00100\n",
            "Epoch: 0, loss: 0.13109\n",
            "Epoch: 100, loss: 0.00158\n",
            "Epoch: 200, loss: 0.00068\n",
            "Epoch: 300, loss: 0.00065\n",
            "Epoch: 400, loss: 0.00064\n",
            "Epoch: 0, loss: 0.23708\n",
            "Epoch: 100, loss: 0.00138\n",
            "Epoch: 200, loss: 0.00070\n",
            "Epoch: 300, loss: 0.00065\n",
            "Epoch: 400, loss: 0.00063\n",
            "Epoch: 0, loss: 0.30709\n",
            "Epoch: 100, loss: 0.00103\n",
            "Epoch: 200, loss: 0.00067\n",
            "Epoch: 300, loss: 0.00058\n",
            "Epoch: 400, loss: 0.00055\n",
            "Epoch: 0, loss: 0.02019\n",
            "Epoch: 100, loss: 0.00142\n",
            "Epoch: 200, loss: 0.00068\n",
            "Epoch: 300, loss: 0.00067\n",
            "Epoch: 400, loss: 0.00066\n",
            "Epoch: 0, loss: 0.01827\n",
            "Epoch: 100, loss: 0.00053\n",
            "Epoch: 200, loss: 0.00049\n",
            "Epoch: 300, loss: 0.00047\n",
            "Epoch: 400, loss: 0.00156\n"
          ]
        }
      ],
      "source": [
        "for percent in percents:\n",
        "  X_train, Y_train, X_test, Y_test, _, _ = get_dataset(percent)\n",
        "  train_model(X_train, Y_train, percent)"
      ]
    },
    {
      "cell_type": "markdown",
      "source": [
        "# Evaluation"
      ],
      "metadata": {
        "id": "ewpCCKZVK4nJ"
      }
    },
    {
      "cell_type": "code",
      "execution_count": null,
      "metadata": {
        "id": "AweRhKdsHdfE"
      },
      "outputs": [],
      "source": [
        "#Load model from drive\n",
        "input_size = 1\n",
        "hidden_size = 2\n",
        "num_layers = 1\n",
        "\n",
        "num_classes = 1\n",
        "losses = []\n",
        "\n",
        "for percent in percents:\n",
        "  X_train, Y_train, X_test, Y_test, sc_train, sc_test = get_dataset(percent)\n",
        "  lstm = LSTM(num_classes, input_size, hidden_size, num_layers)\n",
        "  state_dict = torch.load(DATA_PATH + 'model-weights/lstm_' + str(percent) + '_weights')\n",
        "  lstm.load_state_dict(state_dict)\n",
        "  lstm.eval()\n",
        "  with torch.no_grad():\n",
        "    losses.append(torch.nn.MSELoss()(lstm(X_test), Y_test).item())\n",
        "  # print(train_predict[:10], Y_train[:10])"
      ]
    },
    {
      "cell_type": "code",
      "source": [
        "plt.xlabel('Percent of Dataset for Training')\n",
        "plt.ylabel('MSE Loss')\n",
        "plt.title('Testing Set Loss')\n",
        "plt.scatter(percents, losses)"
      ],
      "metadata": {
        "id": "CQipeRlaYO8N",
        "colab": {
          "base_uri": "https://localhost:8080/",
          "height": 526
        },
        "outputId": "939cacd9-9f3a-4e69-da3b-9ad4ebe5653c"
      },
      "execution_count": null,
      "outputs": [
        {
          "output_type": "execute_result",
          "data": {
            "text/plain": [
              "<matplotlib.collections.PathCollection at 0x79b97093dab0>"
            ]
          },
          "metadata": {},
          "execution_count": 8
        },
        {
          "output_type": "display_data",
          "data": {
            "text/plain": [
              "<Figure size 640x480 with 1 Axes>"
            ],
            "image/png": "[encoded data removed]"
          },
          "metadata": {}
        }
      ]
    },
    {
      "cell_type": "markdown",
      "source": [
        "# Transformer Model"
      ],
      "metadata": {
        "id": "fuUvPO_UasG4"
      }
    },
    {
      "cell_type": "markdown",
      "source": [
        "# Define Transformer Model"
      ],
      "metadata": {
        "id": "O50y7OuSa2Gt"
      }
    },
    {
      "cell_type": "code",
      "source": [
        "def transformer_encoder(inputs, head_size, num_heads, ff_dim, dropout=0):\n",
        "    # Normalization and Attention\n",
        "    x = layers.LayerNormalization(epsilon=1e-6)(inputs)\n",
        "    x = layers.MultiHeadAttention(\n",
        "        key_dim=head_size, num_heads=num_heads, dropout=dropout\n",
        "    )(x, x)\n",
        "    x = layers.Dropout(dropout)(x)\n",
        "    res = x + inputs\n",
        "\n",
        "    # Feed Forward Part\n",
        "    x = layers.LayerNormalization(epsilon=1e-6)(res)\n",
        "    x = layers.Conv1D(filters=ff_dim, kernel_size=1, activation=\"relu\")(x)\n",
        "    x = layers.Dropout(dropout)(x)\n",
        "    x = layers.Conv1D(filters=inputs.shape[-1], kernel_size=1)(x)\n",
        "    return x + res"
      ],
      "metadata": {
        "id": "_8HQ1t_RatCN"
      },
      "execution_count": null,
      "outputs": []
    },
    {
      "cell_type": "code",
      "source": [
        "def build_model(\n",
        "    input_shape,\n",
        "    head_size,\n",
        "    num_heads,\n",
        "    ff_dim,\n",
        "    num_transformer_blocks,\n",
        "    mlp_units,\n",
        "    dropout=0,\n",
        "    mlp_dropout=0,\n",
        "):\n",
        "    inputs = keras.Input(shape=input_shape)\n",
        "    x = inputs\n",
        "    for _ in range(num_transformer_blocks):\n",
        "        x = transformer_encoder(x, head_size, num_heads, ff_dim, dropout)\n",
        "\n",
        "    x = layers.GlobalAveragePooling1D(data_format=\"channels_first\")(x)\n",
        "    for dim in mlp_units:\n",
        "        x = layers.Dense(dim, activation=\"relu\")(x)\n",
        "        x = layers.Dropout(mlp_dropout)(x)\n",
        "    outputs = layers.Dense(1)(x)\n",
        "    return keras.Model(inputs, outputs)"
      ],
      "metadata": {
        "id": "iOeAdIJga3pW"
      },
      "execution_count": null,
      "outputs": []
    },
    {
      "cell_type": "code",
      "source": [
        "input_shape = X_train.shape[1:]\n",
        "\n",
        "for percent in percents:\n",
        "  X_train, Y_train, X_test, Y_test, _, _ = get_dataset(percent)\n",
        "  model = build_model(\n",
        "      input_shape,\n",
        "      head_size=256,\n",
        "      num_heads=4,\n",
        "      ff_dim=4,\n",
        "      num_transformer_blocks=4,\n",
        "      mlp_units=[128],\n",
        "      mlp_dropout=0.4,\n",
        "      dropout=0.25,\n",
        "  )\n",
        "\n",
        "  model.compile(\n",
        "      loss=\"mean_squared_error\",\n",
        "      optimizer=keras.optimizers.Adam(learning_rate=1e-4)\n",
        "  )\n",
        "  #model.summary()\n",
        "\n",
        "  callbacks = [keras.callbacks.EarlyStopping(patience=10, \\\n",
        "      restore_best_weights=True)]\n",
        "\n",
        "  model.fit(\n",
        "      X_train.numpy(),\n",
        "      Y_train.numpy(),\n",
        "      validation_split=0.2,\n",
        "      epochs=10,\n",
        "      batch_size=64,\n",
        "      callbacks=callbacks,\n",
        "  )\n",
        "\n",
        "  model.save(os.path.join(DATA_PATH, 'model-weights/transformer_' + str(percent) + '_weights'), save_format=\"h5\")"
      ],
      "metadata": {
        "colab": {
          "base_uri": "https://localhost:8080/"
        },
        "id": "aEHaGXBAa49s",
        "outputId": "838b5076-01cf-4116-a0bd-ea650f6a7cda"
      },
      "execution_count": null,
      "outputs": [
        {
          "output_type": "stream",
          "name": "stdout",
          "text": [
            "Epoch 1/10\n",
            "147/147 [==============================] - 36s 180ms/step - loss: 0.0379 - val_loss: 0.0101\n",
            "Epoch 2/10\n",
            "147/147 [==============================] - 33s 226ms/step - loss: 0.0195 - val_loss: 0.0063\n",
            "Epoch 3/10\n",
            "147/147 [==============================] - 24s 166ms/step - loss: 0.0139 - val_loss: 0.0043\n",
            "Epoch 4/10\n",
            "147/147 [==============================] - 27s 182ms/step - loss: 0.0106 - val_loss: 0.0036\n",
            "Epoch 5/10\n",
            "147/147 [==============================] - 31s 209ms/step - loss: 0.0093 - val_loss: 0.0031\n",
            "Epoch 6/10\n",
            "147/147 [==============================] - 25s 172ms/step - loss: 0.0083 - val_loss: 0.0030\n",
            "Epoch 7/10\n",
            "147/147 [==============================] - 27s 184ms/step - loss: 0.0077 - val_loss: 0.0027\n",
            "Epoch 8/10\n",
            "147/147 [==============================] - 25s 168ms/step - loss: 0.0068 - val_loss: 0.0025\n",
            "Epoch 9/10\n",
            "147/147 [==============================] - 27s 184ms/step - loss: 0.0064 - val_loss: 0.0023\n",
            "Epoch 10/10\n",
            "147/147 [==============================] - 25s 171ms/step - loss: 0.0058 - val_loss: 0.0023\n"
          ]
        },
        {
          "output_type": "stream",
          "name": "stderr",
          "text": [
            "/usr/local/lib/python3.10/dist-packages/keras/src/engine/training.py:3079: UserWarning: You are saving your model as an HDF5 file via `model.save()`. This file format is considered legacy. We recommend using instead the native Keras format, e.g. `model.save('my_model.keras')`.\n",
            "  saving_api.save_model(\n"
          ]
        },
        {
          "output_type": "stream",
          "name": "stdout",
          "text": [
            "Epoch 1/10\n",
            "404/404 [==============================] - 84s 183ms/step - loss: 0.0333 - val_loss: 0.0096\n",
            "Epoch 2/10\n",
            "404/404 [==============================] - 73s 182ms/step - loss: 0.0110 - val_loss: 0.0044\n",
            "Epoch 3/10\n",
            "404/404 [==============================] - 69s 172ms/step - loss: 0.0074 - val_loss: 0.0028\n",
            "Epoch 4/10\n",
            "404/404 [==============================] - 75s 185ms/step - loss: 0.0060 - val_loss: 0.0027\n",
            "Epoch 5/10\n",
            "404/404 [==============================] - 76s 187ms/step - loss: 0.0048 - val_loss: 0.0021\n",
            "Epoch 6/10\n",
            "404/404 [==============================] - 74s 183ms/step - loss: 0.0042 - val_loss: 0.0018\n",
            "Epoch 7/10\n",
            "404/404 [==============================] - 76s 188ms/step - loss: 0.0037 - val_loss: 0.0017\n",
            "Epoch 8/10\n",
            "404/404 [==============================] - 72s 179ms/step - loss: 0.0033 - val_loss: 0.0015\n",
            "Epoch 9/10\n",
            "404/404 [==============================] - 73s 181ms/step - loss: 0.0030 - val_loss: 0.0013\n",
            "Epoch 10/10\n",
            "404/404 [==============================] - 71s 175ms/step - loss: 0.0028 - val_loss: 0.0013\n"
          ]
        },
        {
          "output_type": "stream",
          "name": "stderr",
          "text": [
            "/usr/local/lib/python3.10/dist-packages/keras/src/engine/training.py:3079: UserWarning: You are saving your model as an HDF5 file via `model.save()`. This file format is considered legacy. We recommend using instead the native Keras format, e.g. `model.save('my_model.keras')`.\n",
            "  saving_api.save_model(\n"
          ]
        },
        {
          "output_type": "stream",
          "name": "stdout",
          "text": [
            "Epoch 1/10\n",
            "441/441 [==============================] - 88s 182ms/step - loss: 0.0388 - val_loss: 0.0080\n",
            "Epoch 2/10\n",
            "441/441 [==============================] - 81s 183ms/step - loss: 0.0105 - val_loss: 0.0031\n",
            "Epoch 3/10\n",
            "441/441 [==============================] - 85s 192ms/step - loss: 0.0067 - val_loss: 0.0021\n",
            "Epoch 4/10\n",
            "441/441 [==============================] - 83s 188ms/step - loss: 0.0052 - val_loss: 0.0016\n",
            "Epoch 5/10\n",
            "441/441 [==============================] - 82s 186ms/step - loss: 0.0042 - val_loss: 0.0014\n",
            "Epoch 6/10\n",
            "441/441 [==============================] - 88s 199ms/step - loss: 0.0036 - val_loss: 0.0013\n",
            "Epoch 7/10\n",
            "441/441 [==============================] - 83s 189ms/step - loss: 0.0032 - val_loss: 0.0010\n",
            "Epoch 8/10\n",
            "441/441 [==============================] - 85s 192ms/step - loss: 0.0028 - val_loss: 0.0010\n",
            "Epoch 9/10\n",
            "441/441 [==============================] - 83s 188ms/step - loss: 0.0026 - val_loss: 9.2458e-04\n",
            "Epoch 10/10\n",
            "441/441 [==============================] - 84s 192ms/step - loss: 0.0024 - val_loss: 8.0210e-04\n"
          ]
        },
        {
          "output_type": "stream",
          "name": "stderr",
          "text": [
            "/usr/local/lib/python3.10/dist-packages/keras/src/engine/training.py:3079: UserWarning: You are saving your model as an HDF5 file via `model.save()`. This file format is considered legacy. We recommend using instead the native Keras format, e.g. `model.save('my_model.keras')`.\n",
            "  saving_api.save_model(\n"
          ]
        },
        {
          "output_type": "stream",
          "name": "stdout",
          "text": [
            "Epoch 1/10\n",
            "697/697 [==============================] - 131s 179ms/step - loss: 0.0165 - val_loss: 0.0024\n",
            "Epoch 2/10\n",
            "697/697 [==============================] - 137s 196ms/step - loss: 0.0055 - val_loss: 0.0016\n",
            "Epoch 3/10\n",
            "697/697 [==============================] - 119s 171ms/step - loss: 0.0037 - val_loss: 0.0013\n",
            "Epoch 4/10\n",
            "697/697 [==============================] - 118s 169ms/step - loss: 0.0029 - val_loss: 0.0011\n",
            "Epoch 5/10\n",
            "697/697 [==============================] - 121s 174ms/step - loss: 0.0024 - val_loss: 9.4756e-04\n",
            "Epoch 6/10\n",
            "697/697 [==============================] - 130s 186ms/step - loss: 0.0021 - val_loss: 7.7965e-04\n",
            "Epoch 7/10\n",
            "697/697 [==============================] - 123s 177ms/step - loss: 0.0018 - val_loss: 7.1860e-04\n",
            "Epoch 8/10\n",
            "697/697 [==============================] - 123s 176ms/step - loss: 0.0016 - val_loss: 6.6599e-04\n",
            "Epoch 9/10\n",
            "697/697 [==============================] - 128s 184ms/step - loss: 0.0014 - val_loss: 6.3355e-04\n",
            "Epoch 10/10\n",
            "697/697 [==============================] - 121s 174ms/step - loss: 0.0013 - val_loss: 6.1536e-04\n"
          ]
        },
        {
          "output_type": "stream",
          "name": "stderr",
          "text": [
            "/usr/local/lib/python3.10/dist-packages/keras/src/engine/training.py:3079: UserWarning: You are saving your model as an HDF5 file via `model.save()`. This file format is considered legacy. We recommend using instead the native Keras format, e.g. `model.save('my_model.keras')`.\n",
            "  saving_api.save_model(\n"
          ]
        },
        {
          "output_type": "stream",
          "name": "stdout",
          "text": [
            "Epoch 1/10\n",
            "954/954 [==============================] - 186s 185ms/step - loss: 0.0216 - val_loss: 0.0030\n",
            "Epoch 2/10\n",
            "954/954 [==============================] - 172s 181ms/step - loss: 0.0061 - val_loss: 0.0017\n",
            "Epoch 3/10\n",
            "954/954 [==============================] - 184s 193ms/step - loss: 0.0040 - val_loss: 0.0013\n",
            "Epoch 4/10\n",
            "954/954 [==============================] - 168s 176ms/step - loss: 0.0031 - val_loss: 0.0011\n",
            "Epoch 5/10\n",
            "954/954 [==============================] - 172s 180ms/step - loss: 0.0024 - val_loss: 9.3434e-04\n",
            "Epoch 6/10\n",
            "954/954 [==============================] - 176s 184ms/step - loss: 0.0020 - val_loss: 7.6276e-04\n",
            "Epoch 7/10\n",
            "954/954 [==============================] - 170s 178ms/step - loss: 0.0017 - val_loss: 7.1111e-04\n",
            "Epoch 8/10\n",
            "954/954 [==============================] - 175s 184ms/step - loss: 0.0015 - val_loss: 6.8874e-04\n",
            "Epoch 9/10\n",
            "954/954 [==============================] - 171s 179ms/step - loss: 0.0013 - val_loss: 6.5733e-04\n",
            "Epoch 10/10\n",
            "954/954 [==============================] - 173s 181ms/step - loss: 0.0012 - val_loss: 6.2627e-04\n"
          ]
        },
        {
          "output_type": "stream",
          "name": "stderr",
          "text": [
            "/usr/local/lib/python3.10/dist-packages/keras/src/engine/training.py:3079: UserWarning: You are saving your model as an HDF5 file via `model.save()`. This file format is considered legacy. We recommend using instead the native Keras format, e.g. `model.save('my_model.keras')`.\n",
            "  saving_api.save_model(\n"
          ]
        },
        {
          "output_type": "stream",
          "name": "stdout",
          "text": [
            "Epoch 1/10\n",
            "991/991 [==============================] - 191s 183ms/step - loss: 0.0098 - val_loss: 0.0017\n",
            "Epoch 2/10\n",
            "991/991 [==============================] - 178s 180ms/step - loss: 0.0036 - val_loss: 0.0012\n",
            "Epoch 3/10\n",
            "991/991 [==============================] - 175s 177ms/step - loss: 0.0027 - val_loss: 9.1966e-04\n",
            "Epoch 4/10\n",
            "991/991 [==============================] - 185s 187ms/step - loss: 0.0022 - val_loss: 8.1269e-04\n",
            "Epoch 5/10\n",
            "991/991 [==============================] - 185s 187ms/step - loss: 0.0018 - val_loss: 7.3542e-04\n",
            "Epoch 6/10\n",
            "991/991 [==============================] - 190s 192ms/step - loss: 0.0016 - val_loss: 6.8953e-04\n",
            "Epoch 7/10\n",
            "991/991 [==============================] - 188s 190ms/step - loss: 0.0014 - val_loss: 6.3907e-04\n",
            "Epoch 8/10\n",
            "991/991 [==============================] - 179s 180ms/step - loss: 0.0012 - val_loss: 6.0058e-04\n",
            "Epoch 9/10\n",
            "991/991 [==============================] - 172s 173ms/step - loss: 0.0011 - val_loss: 5.8112e-04\n",
            "Epoch 10/10\n",
            "991/991 [==============================] - 173s 174ms/step - loss: 0.0011 - val_loss: 5.5678e-04\n"
          ]
        },
        {
          "output_type": "stream",
          "name": "stderr",
          "text": [
            "/usr/local/lib/python3.10/dist-packages/keras/src/engine/training.py:3079: UserWarning: You are saving your model as an HDF5 file via `model.save()`. This file format is considered legacy. We recommend using instead the native Keras format, e.g. `model.save('my_model.keras')`.\n",
            "  saving_api.save_model(\n"
          ]
        },
        {
          "output_type": "stream",
          "name": "stdout",
          "text": [
            "Epoch 1/10\n",
            "1248/1248 [==============================] - 235s 181ms/step - loss: 0.0152 - val_loss: 0.0015\n",
            "Epoch 2/10\n",
            "1248/1248 [==============================] - 226s 181ms/step - loss: 0.0041 - val_loss: 8.5020e-04\n",
            "Epoch 3/10\n",
            "1248/1248 [==============================] - 220s 176ms/step - loss: 0.0028 - val_loss: 6.9441e-04\n",
            "Epoch 4/10\n",
            "1248/1248 [==============================] - 216s 173ms/step - loss: 0.0022 - val_loss: 5.6861e-04\n",
            "Epoch 5/10\n",
            "1248/1248 [==============================] - 223s 179ms/step - loss: 0.0018 - val_loss: 5.0779e-04\n",
            "Epoch 6/10\n",
            "1248/1248 [==============================] - 225s 180ms/step - loss: 0.0014 - val_loss: 4.6428e-04\n",
            "Epoch 7/10\n",
            "1248/1248 [==============================] - 222s 178ms/step - loss: 0.0012 - val_loss: 4.5496e-04\n",
            "Epoch 8/10\n",
            "1248/1248 [==============================] - 216s 173ms/step - loss: 0.0010 - val_loss: 4.1981e-04\n",
            "Epoch 9/10\n",
            "1248/1248 [==============================] - 215s 173ms/step - loss: 9.3237e-04 - val_loss: 4.1260e-04\n",
            "Epoch 10/10\n",
            "1248/1248 [==============================] - 215s 172ms/step - loss: 8.6395e-04 - val_loss: 4.0089e-04\n"
          ]
        },
        {
          "output_type": "stream",
          "name": "stderr",
          "text": [
            "/usr/local/lib/python3.10/dist-packages/keras/src/engine/training.py:3079: UserWarning: You are saving your model as an HDF5 file via `model.save()`. This file format is considered legacy. We recommend using instead the native Keras format, e.g. `model.save('my_model.keras')`.\n",
            "  saving_api.save_model(\n"
          ]
        },
        {
          "output_type": "stream",
          "name": "stdout",
          "text": [
            "Epoch 1/10\n",
            "1504/1504 [==============================] - 272s 174ms/step - loss: 0.0213 - val_loss: 0.0026\n",
            "Epoch 2/10\n",
            "1504/1504 [==============================] - 263s 175ms/step - loss: 0.0055 - val_loss: 0.0015\n",
            "Epoch 3/10\n",
            "1504/1504 [==============================] - 285s 189ms/step - loss: 0.0036 - val_loss: 9.9262e-04\n",
            "Epoch 4/10\n",
            "1504/1504 [==============================] - 282s 188ms/step - loss: 0.0026 - val_loss: 7.4421e-04\n",
            "Epoch 5/10\n",
            "1504/1504 [==============================] - 276s 183ms/step - loss: 0.0019 - val_loss: 5.9210e-04\n",
            "Epoch 6/10\n",
            "1504/1504 [==============================] - 258s 171ms/step - loss: 0.0014 - val_loss: 5.3318e-04\n",
            "Epoch 7/10\n",
            "1504/1504 [==============================] - 277s 184ms/step - loss: 0.0011 - val_loss: 4.9357e-04\n",
            "Epoch 8/10\n",
            "1504/1504 [==============================] - 259s 172ms/step - loss: 9.8481e-04 - val_loss: 4.7828e-04\n",
            "Epoch 9/10\n",
            "1504/1504 [==============================] - 257s 171ms/step - loss: 8.7318e-04 - val_loss: 4.5426e-04\n",
            "Epoch 10/10\n",
            "1504/1504 [==============================] - 276s 184ms/step - loss: 8.1466e-04 - val_loss: 4.5303e-04\n"
          ]
        },
        {
          "output_type": "stream",
          "name": "stderr",
          "text": [
            "/usr/local/lib/python3.10/dist-packages/keras/src/engine/training.py:3079: UserWarning: You are saving your model as an HDF5 file via `model.save()`. This file format is considered legacy. We recommend using instead the native Keras format, e.g. `model.save('my_model.keras')`.\n",
            "  saving_api.save_model(\n"
          ]
        },
        {
          "output_type": "stream",
          "name": "stdout",
          "text": [
            "Epoch 1/10\n",
            "1542/1542 [==============================] - 277s 173ms/step - loss: 0.0194 - val_loss: 0.0016\n",
            "Epoch 2/10\n",
            "1542/1542 [==============================] - 283s 184ms/step - loss: 0.0040 - val_loss: 8.7914e-04\n",
            "Epoch 3/10\n",
            "1542/1542 [==============================] - 261s 169ms/step - loss: 0.0026 - val_loss: 6.4834e-04\n",
            "Epoch 4/10\n",
            "1542/1542 [==============================] - 265s 172ms/step - loss: 0.0019 - val_loss: 5.7922e-04\n",
            "Epoch 5/10\n",
            "1542/1542 [==============================] - 287s 186ms/step - loss: 0.0015 - val_loss: 5.3156e-04\n",
            "Epoch 6/10\n",
            "1542/1542 [==============================] - 310s 201ms/step - loss: 0.0012 - val_loss: 4.8562e-04\n",
            "Epoch 7/10\n",
            "1542/1542 [==============================] - 315s 205ms/step - loss: 0.0010 - val_loss: 4.5654e-04\n",
            "Epoch 8/10\n",
            "1542/1542 [==============================] - 316s 205ms/step - loss: 8.8792e-04 - val_loss: 4.5039e-04\n",
            "Epoch 9/10\n",
            "1542/1542 [==============================] - 314s 204ms/step - loss: 8.1115e-04 - val_loss: 4.4261e-04\n",
            "Epoch 10/10\n",
            "1542/1542 [==============================] - 310s 201ms/step - loss: 7.6424e-04 - val_loss: 4.2621e-04\n"
          ]
        },
        {
          "output_type": "stream",
          "name": "stderr",
          "text": [
            "/usr/local/lib/python3.10/dist-packages/keras/src/engine/training.py:3079: UserWarning: You are saving your model as an HDF5 file via `model.save()`. This file format is considered legacy. We recommend using instead the native Keras format, e.g. `model.save('my_model.keras')`.\n",
            "  saving_api.save_model(\n"
          ]
        }
      ]
    },
    {
      "cell_type": "markdown",
      "source": [
        "## Evaluation"
      ],
      "metadata": {
        "id": "D13xix-X0RsR"
      }
    },
    {
      "cell_type": "code",
      "source": [
        "import tensorflow as tf\n",
        "res = []\n",
        "for percent in percents:\n",
        "  X_train, Y_train, X_test, Y_test, sc_train, sc_test = get_dataset(percent)\n",
        "  model = tf.keras.models.load_model(DATA_PATH + 'model-weights/transformer_' + str(percent) + '_weights')\n",
        "  res.append(model.evaluate(X_test.numpy(), Y_test.numpy()))\n",
        "res"
      ],
      "metadata": {
        "colab": {
          "base_uri": "https://localhost:8080/"
        },
        "id": "PXRRwDv7fITP",
        "outputId": "1236f2d1-6e2d-4857-9c47-dcc1c387c92a"
      },
      "execution_count": null,
      "outputs": [
        {
          "output_type": "stream",
          "name": "stdout",
          "text": [
            "689/689 [==============================] - 31s 44ms/step - loss: 0.0017\n",
            "689/689 [==============================] - 30s 42ms/step - loss: 0.0011\n",
            "689/689 [==============================] - 29s 42ms/step - loss: 8.0596e-04\n",
            "689/689 [==============================] - 28s 40ms/step - loss: 7.0528e-04\n",
            "689/689 [==============================] - 29s 41ms/step - loss: 7.5088e-04\n",
            "689/689 [==============================] - 30s 43ms/step - loss: 6.8017e-04\n",
            "689/689 [==============================] - 28s 40ms/step - loss: 7.9018e-04\n",
            "689/689 [==============================] - 29s 41ms/step - loss: 7.2565e-04\n",
            "689/689 [==============================] - 30s 43ms/step - loss: 7.3270e-04\n"
          ]
        },
        {
          "output_type": "execute_result",
          "data": {
            "text/plain": [
              "[0.0017093558562919497,\n",
              " 0.0011175972176715732,\n",
              " 0.0008059569518081844,\n",
              " 0.0007052834844216704,\n",
              " 0.0007508777780458331,\n",
              " 0.0006801722920499742,\n",
              " 0.0007901829667389393,\n",
              " 0.0007256466196849942,\n",
              " 0.0007326986524276435]"
            ]
          },
          "metadata": {},
          "execution_count": 43
        }
      ]
    },
    {
      "cell_type": "code",
      "source": [
        "res = [0.0017093558562919497,\n",
        " 0.0011175972176715732,\n",
        " 0.0008059569518081844,\n",
        " 0.0007052834844216704,\n",
        " 0.0007508777780458331,\n",
        " 0.0006801722920499742,\n",
        " 0.0007901829667389393,\n",
        " 0.0007256466196849942,\n",
        " 0.0007326986524276435]\n",
        "\n",
        "plt.xlabel('Percent of Dataset for Training')\n",
        "plt.ylabel('MSE Loss')\n",
        "plt.title('LSTM vs Transformers (Dataset Size)')\n",
        "plt.plot(percents, res, label='Transformer')\n",
        "plt.plot(percents, losses, label='LSTM')\n",
        "plt.legend()\n",
        "plt.show()"
      ],
      "metadata": {
        "colab": {
          "base_uri": "https://localhost:8080/",
          "height": 508
        },
        "id": "F4MMqFFQ00lr",
        "outputId": "683d8fcc-5187-469e-ca86-303585be9bef"
      },
      "execution_count": null,
      "outputs": [
        {
          "output_type": "display_data",
          "data": {
            "text/plain": [
              "<Figure size 640x480 with 1 Axes>"
            ],
            "image/png": "[encoded data removed]"
          },
          "metadata": {}
        }
      ]
    },
    {
      "cell_type": "code",
      "source": [],
      "metadata": {
        "id": "HneX3b4Q5U1y"
      },
      "execution_count": null,
      "outputs": []
    }
  ],
  "metadata": {
    "colab": {
      "provenance": [],
      "authorship_tag": "ABX9TyM5f2bbqa33TKGf3VSdx4j4",
      "include_colab_link": true
    },
    "kernelspec": {
      "display_name": "Python 3",
      "name": "python3"
    },
    "language_info": {
      "name": "python"
    }
  },
  "nbformat": 4,
  "nbformat_minor": 0
}